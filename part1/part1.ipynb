{
 "metadata": {
  "language_info": {
   "codemirror_mode": {
    "name": "ipython",
    "version": 3
   },
   "file_extension": ".py",
   "mimetype": "text/x-python",
   "name": "python",
   "nbconvert_exporter": "python",
   "pygments_lexer": "ipython3",
   "version": "3.8.5-final"
  },
  "orig_nbformat": 2,
  "kernelspec": {
   "name": "python3",
   "display_name": "Python 3"
  }
 },
 "nbformat": 4,
 "nbformat_minor": 2,
 "cells": [
  {
   "cell_type": "code",
   "execution_count": 1,
   "metadata": {},
   "outputs": [],
   "source": [
    "from collections import defaultdict"
   ]
  },
  {
   "cell_type": "code",
   "execution_count": 2,
   "metadata": {},
   "outputs": [],
   "source": [
    "def read_data(fname):\n",
    "    exemplars = []\n",
    "    file = open(fname, 'r');\n",
    "    for line in file:\n",
    "        data = tuple([w.lower() for w in line.split()])\n",
    "        exemplars += [ (data[0::2], data[1::2]), ]\n",
    "\n",
    "    return exemplars"
   ]
  },
  {
   "cell_type": "code",
   "execution_count": 3,
   "metadata": {},
   "outputs": [],
   "source": [
    "data = read_data('bc.train')"
   ]
  },
  {
   "cell_type": "code",
   "execution_count": 4,
   "metadata": {
    "tags": []
   },
   "outputs": [],
   "source": [
    "def learn_trans_probs(data):\n",
    "    trans_dict = {}\n",
    "    for sent in data:\n",
    "        for i in range(len(sent[1])-1):\n",
    "            if sent[1][i] in trans_dict.keys():\n",
    "                if sent[1][i+1] in trans_dict[sent[1][i]].keys():\n",
    "                    trans_dict[sent[1][i]][sent[1][i+1]] += 1\n",
    "                else:\n",
    "                    trans_dict[sent[1][i]][sent[1][i+1]] = 1\n",
    "            else:\n",
    "                trans_dict[sent[1][i]] = {sent[1][i+1]: 1}\n",
    "    return (trans_dict)"
   ]
  },
  {
   "cell_type": "code",
   "execution_count": 5,
   "metadata": {},
   "outputs": [],
   "source": [
    "pos = ['adj','adv','adp','conj','det','noun','num','pron','prt','verb','x','.']"
   ]
  },
  {
   "cell_type": "code",
   "execution_count": 6,
   "metadata": {},
   "outputs": [],
   "source": [
    "def learn_init_probs(data):\n",
    "    initial_dict = defaultdict(lambda: 0)\n",
    "    for sent in data:\n",
    "        beg_word = sent[1][0]\n",
    "        initial_dict[beg_word] += 1\n",
    "    for p in pos:\n",
    "        if p in initial_dict.keys():\n",
    "            pass\n",
    "        else:\n",
    "            initial_dict[p] = 1\n",
    "    total_words = sum(initial_dict.values())\n",
    "    for key in initial_dict.keys():\n",
    "        initial_dict[key] = initial_dict[key] / total_words\n",
    "    return initial_dict"
   ]
  },
  {
   "cell_type": "code",
   "execution_count": 7,
   "metadata": {},
   "outputs": [
    {
     "output_type": "execute_result",
     "data": {
      "text/plain": [
       "{'det': {'noun': 70499,\n",
       "  'verb': 7529,\n",
       "  'det': 716,\n",
       "  'adj': 28231,\n",
       "  'pron': 1099,\n",
       "  'num': 1163,\n",
       "  'adv': 2073,\n",
       "  'adp': 1091,\n",
       "  '.': 1439,\n",
       "  'x': 159,\n",
       "  'prt': 191,\n",
       "  'conj': 71},\n",
       " 'noun': {'noun': 36837,\n",
       "  'adj': 3138,\n",
       "  'verb': 36642,\n",
       "  'det': 3681,\n",
       "  'adp': 59770,\n",
       "  '.': 65195,\n",
       "  'adv': 5819,\n",
       "  'conj': 14091,\n",
       "  'prt': 4111,\n",
       "  'num': 2160,\n",
       "  'pron': 4361,\n",
       "  'x': 85},\n",
       " 'adj': {'noun': 48418,\n",
       "  '.': 6598,\n",
       "  'adp': 6311,\n",
       "  'conj': 2697,\n",
       "  'prt': 1356,\n",
       "  'adj': 4213,\n",
       "  'det': 393,\n",
       "  'adv': 632,\n",
       "  'verb': 1283,\n",
       "  'num': 538,\n",
       "  'x': 34,\n",
       "  'pron': 223},\n",
       " 'verb': {'noun': 15030,\n",
       "  '.': 10781,\n",
       "  'adp': 25610,\n",
       "  'adj': 8925,\n",
       "  'det': 23912,\n",
       "  'verb': 27791,\n",
       "  'pron': 6424,\n",
       "  'conj': 2147,\n",
       "  'adv': 15194,\n",
       "  'prt': 8876,\n",
       "  'num': 1430,\n",
       "  'x': 27},\n",
       " 'adp': {'noun': 33063,\n",
       "  'det': 55939,\n",
       "  'adj': 11024,\n",
       "  'verb': 5348,\n",
       "  'pron': 7032,\n",
       "  'adp': 2381,\n",
       "  'prt': 1702,\n",
       "  'num': 4025,\n",
       "  'adv': 1895,\n",
       "  '.': 1234,\n",
       "  'conj': 234,\n",
       "  'x': 58},\n",
       " '.': {'det': 8391,\n",
       "  'adp': 8151,\n",
       "  '.': 10693,\n",
       "  'verb': 8872,\n",
       "  'noun': 10342,\n",
       "  'adv': 4977,\n",
       "  'prt': 1656,\n",
       "  'conj': 8255,\n",
       "  'pron': 4713,\n",
       "  'num': 1663,\n",
       "  'adj': 3662,\n",
       "  'x': 147},\n",
       " 'adv': {'verb': 11140,\n",
       "  'det': 3427,\n",
       "  'adj': 6438,\n",
       "  '.': 6694,\n",
       "  'adp': 6439,\n",
       "  'adv': 4436,\n",
       "  'prt': 1223,\n",
       "  'noun': 1547,\n",
       "  'conj': 720,\n",
       "  'pron': 1862,\n",
       "  'num': 663,\n",
       "  'x': 4},\n",
       " 'conj': {'noun': 8268,\n",
       "  'det': 4823,\n",
       "  'adj': 3790,\n",
       "  'adv': 2819,\n",
       "  'verb': 5684,\n",
       "  'adp': 2421,\n",
       "  'pron': 1687,\n",
       "  '.': 646,\n",
       "  'prt': 718,\n",
       "  'num': 622,\n",
       "  'x': 15,\n",
       "  'conj': 9},\n",
       " 'prt': {'verb': 14820,\n",
       "  'det': 1798,\n",
       "  'adp': 1889,\n",
       "  'adv': 592,\n",
       "  '.': 1333,\n",
       "  'noun': 880,\n",
       "  'adj': 406,\n",
       "  'conj': 218,\n",
       "  'prt': 196,\n",
       "  'pron': 119,\n",
       "  'num': 127,\n",
       "  'x': 2},\n",
       " 'pron': {'verb': 24417,\n",
       "  '.': 3125,\n",
       "  'det': 581,\n",
       "  'prt': 810,\n",
       "  'adv': 1824,\n",
       "  'adp': 1909,\n",
       "  'conj': 365,\n",
       "  'pron': 300,\n",
       "  'adj': 344,\n",
       "  'noun': 266,\n",
       "  'num': 32},\n",
       " 'num': {'noun': 5040,\n",
       "  'adp': 1774,\n",
       "  'adj': 774,\n",
       "  'det': 175,\n",
       "  '.': 3884,\n",
       "  'conj': 511,\n",
       "  'num': 286,\n",
       "  'verb': 614,\n",
       "  'prt': 70,\n",
       "  'pron': 111,\n",
       "  'adv': 253,\n",
       "  'x': 2},\n",
       " 'x': {'x': 649,\n",
       "  'noun': 60,\n",
       "  '.': 311,\n",
       "  'adp': 64,\n",
       "  'prt': 7,\n",
       "  'verb': 60,\n",
       "  'adv': 7,\n",
       "  'conj': 24,\n",
       "  'det': 6,\n",
       "  'num': 1,\n",
       "  'adj': 4,\n",
       "  'pron': 7}}"
      ]
     },
     "metadata": {},
     "execution_count": 7
    }
   ],
   "source": [
    "learn_trans_probs(data)"
   ]
  },
  {
   "cell_type": "code",
   "execution_count": 8,
   "metadata": {},
   "outputs": [
    {
     "output_type": "execute_result",
     "data": {
      "text/plain": [
       "defaultdict(<function __main__.learn_init_probs.<locals>.<lambda>()>,\n",
       "            {'det': 0.2360419871504841,\n",
       "             '.': 0.059587367659035384,\n",
       "             'pron': 0.13663921817030134,\n",
       "             'noun': 0.14792778934033118,\n",
       "             'adv': 0.09250294091032486,\n",
       "             'adp': 0.13872047778481586,\n",
       "             'verb': 0.046330648810062436,\n",
       "             'num': 0.01941000814405936,\n",
       "             'conj': 0.048886978553977015,\n",
       "             'adj': 0.04019998190209031,\n",
       "             'prt': 0.03330015383223238,\n",
       "             'x': 0.000452447742285766})"
      ]
     },
     "metadata": {},
     "execution_count": 8
    }
   ],
   "source": [
    "learn_init_probs(data)"
   ]
  },
  {
   "cell_type": "code",
   "execution_count": null,
   "metadata": {},
   "outputs": [],
   "source": []
  }
 ]
}