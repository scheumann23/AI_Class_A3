{
 "metadata": {
  "language_info": {
   "codemirror_mode": {
    "name": "ipython",
    "version": 3
   },
   "file_extension": ".py",
   "mimetype": "text/x-python",
   "name": "python",
   "nbconvert_exporter": "python",
   "pygments_lexer": "ipython3",
   "version": "3.8.5-final"
  },
  "orig_nbformat": 2,
  "kernelspec": {
   "name": "python3",
   "display_name": "Python 3"
  }
 },
 "nbformat": 4,
 "nbformat_minor": 2,
 "cells": [
  {
   "cell_type": "code",
   "execution_count": 1,
   "metadata": {},
   "outputs": [],
   "source": [
    "from collections import defaultdict\n",
    "import math\n",
    "import random"
   ]
  },
  {
   "cell_type": "code",
   "execution_count": 2,
   "metadata": {},
   "outputs": [],
   "source": [
    "def train(corpus):\n",
    "    file = open(corpus, 'r')\n",
    "    data = file.readlines()\n",
    "    data = [word.strip('\\n') for word in data]\n",
    "\n",
    "    # learn the initial probabilities\n",
    "    initial_dict = defaultdict(lambda: 0)\n",
    "    for word in data:\n",
    "        beg_pos = word[0]\n",
    "        initial_dict[beg_pos] += 1\n",
    "        for l in letters:\n",
    "            if l in initial_dict.keys():\n",
    "                pass\n",
    "            else:\n",
    "                initial_dict[l] = 1\n",
    "\n",
    "    total = sum(initial_dict.values())\n",
    "    for key in initial_dict.keys():\n",
    "        initial_dict[key] = initial_dict[key] / total\n",
    "\n",
    "    # learn the transition probailities\n",
    "    trans_dict = {}\n",
    "    for word in data:\n",
    "        for i in range(len(word)-1):\n",
    "            if word[i] in trans_dict.keys():\n",
    "                if word[i+1] in trans_dict[word[i]].keys():\n",
    "                    trans_dict[word[i]][word[i+1]] += 1\n",
    "                else:\n",
    "                    trans_dict[word[i]][word[i+1]] = 1\n",
    "            else:\n",
    "                trans_dict[word[i]] = {word[i+1]: 1}\n",
    "\n",
    "    for value in trans_dict.values():\n",
    "        for letter in letters:\n",
    "            if letter in value.keys():\n",
    "                pass\n",
    "            else:\n",
    "                value[letter] = 1\n",
    "\n",
    "    for value in trans_dict.values():\n",
    "        total = sum(value.values())\n",
    "        for key in value.keys():\n",
    "            value[key] = value[key] / total\n",
    "    \n",
    "    return initial_dict, trans_dict"
   ]
  },
  {
   "cell_type": "code",
   "execution_count": 4,
   "metadata": {},
   "outputs": [],
   "source": [
    "letters = ['a', 'b', 'c', 'd', 'e', 'f', 'g', 'h', 'i', 'j', 'k', 'l', 'm', 'n', 'o', 'p', 'q', 'r', 's', 't', 'u', 'v', 'w', 'x', 'y', 'z']"
   ]
  },
  {
   "cell_type": "code",
   "execution_count": 13,
   "metadata": {},
   "outputs": [],
   "source": [
    "initial_dict, trans_dict = train('corpus.txt')"
   ]
  },
  {
   "cell_type": "code",
   "execution_count": 6,
   "metadata": {},
   "outputs": [],
   "source": [
    "def prob(string, initial_dict, trans_dict):\n",
    "    doc_prob = 0\n",
    "    word_list = string.split()\n",
    "    for word in word_list:\n",
    "        word_prob = 0\n",
    "        for i in range(len(word)):\n",
    "            if i == 0:\n",
    "                word_prob += math.log(initial_dict[word[i]])\n",
    "            else:\n",
    "                word_prob += math.log(trans_dict[word[i-1]][word[i]])\n",
    "        doc_prob += word_prob\n",
    "    return doc_prob"
   ]
  },
  {
   "cell_type": "code",
   "execution_count": 7,
   "metadata": {},
   "outputs": [],
   "source": [
    "letters_copy = letters[:]\n",
    "random.shuffle(letters_copy)\n",
    "replace_dict = dict(zip(letters, letters_copy))"
   ]
  },
  {
   "cell_type": "code",
   "execution_count": 8,
   "metadata": {},
   "outputs": [
    {
     "output_type": "execute_result",
     "data": {
      "text/plain": [
       "{'a': 'c',\n",
       " 'b': 'n',\n",
       " 'c': 'g',\n",
       " 'd': 'e',\n",
       " 'e': 'z',\n",
       " 'f': 'o',\n",
       " 'g': 'l',\n",
       " 'h': 's',\n",
       " 'i': 'v',\n",
       " 'j': 'm',\n",
       " 'k': 'a',\n",
       " 'l': 't',\n",
       " 'm': 'u',\n",
       " 'n': 'b',\n",
       " 'o': 'j',\n",
       " 'p': 'f',\n",
       " 'q': 'r',\n",
       " 'r': 'x',\n",
       " 's': 'p',\n",
       " 't': 'q',\n",
       " 'u': 'w',\n",
       " 'v': 'd',\n",
       " 'w': 'y',\n",
       " 'x': 'h',\n",
       " 'y': 'k',\n",
       " 'z': 'i'}"
      ]
     },
     "metadata": {},
     "execution_count": 8
    }
   ],
   "source": [
    "replace_dict"
   ]
  },
  {
   "cell_type": "code",
   "execution_count": 9,
   "metadata": {},
   "outputs": [],
   "source": [
    "def decode(str, replace, rearrange):\n",
    "    str2 = str.translate({ ord(i):ord(replace[i]) for i in replace })\n",
    "    str2 +=  ' ' * (len(rearrange)-(len(str2) %  len(rearrange)))\n",
    "    return \"\".join([\"\".join([str2[rearrange[j] + i] for j in range(0, len(rearrange))]) for i in range(0, len(str), len(rearrange))])"
   ]
  },
  {
   "cell_type": "code",
   "execution_count": 11,
   "metadata": {},
   "outputs": [
    {
     "output_type": "execute_result",
     "data": {
      "text/plain": [
       "'hi how are you  '"
      ]
     },
     "metadata": {},
     "execution_count": 11
    }
   ],
   "source": [
    "decode('ab aux cst zup  ', replace_dict, [0,1,2,3])"
   ]
  },
  {
   "cell_type": "code",
   "execution_count": 14,
   "metadata": {},
   "outputs": [
    {
     "output_type": "execute_result",
     "data": {
      "text/plain": [
       "-46.79125487927752"
      ]
     },
     "metadata": {},
     "execution_count": 14
    }
   ],
   "source": [
    "prob('ab aux cst zup  ', initial_dict, trans_dict)"
   ]
  },
  {
   "cell_type": "code",
   "execution_count": 16,
   "metadata": {},
   "outputs": [
    {
     "output_type": "execute_result",
     "data": {
      "text/plain": [
       "-28.039353058124725"
      ]
     },
     "metadata": {},
     "execution_count": 16
    }
   ],
   "source": [
    "prob('hi how are you  ', initial_dict, trans_dict)"
   ]
  },
  {
   "cell_type": "code",
   "execution_count": 59,
   "metadata": {},
   "outputs": [],
   "source": [
    "def swap_dict(dictionary):\n",
    "    i, j = random.choices(list(dictionary.keys()), k=2)\n",
    "    dictionary[i], dictionary[j] = dictionary[j], dictionary[i]"
   ]
  },
  {
   "cell_type": "code",
   "execution_count": 10,
   "metadata": {},
   "outputs": [
    {
     "output_type": "execute_result",
     "data": {
      "text/plain": [
       "{'a': 'h',\n",
       " 'b': 'i',\n",
       " 'u': 'o',\n",
       " 'x': 'w',\n",
       " 'c': 'a',\n",
       " 's': 'r',\n",
       " 't': 'e',\n",
       " 'z': 'y',\n",
       " 'p': 'u'}"
      ]
     },
     "metadata": {},
     "execution_count": 10
    }
   ],
   "source": [
    "replace_dict = {'a': 'h', 'b': 'i', 'u': 'o', 'x': 'w', 'c': 'a', 's': 'r', 't': 'e', 'z': 'y', 'p': 'u'}\n",
    "replace_dict"
   ]
  },
  {
   "cell_type": "code",
   "execution_count": 61,
   "metadata": {},
   "outputs": [],
   "source": [
    "swap_dict(replace_dict)"
   ]
  },
  {
   "cell_type": "code",
   "execution_count": 62,
   "metadata": {},
   "outputs": [
    {
     "output_type": "execute_result",
     "data": {
      "text/plain": [
       "{'a': 's',\n",
       " 'b': 'x',\n",
       " 'c': 'v',\n",
       " 'd': 'w',\n",
       " 'e': 'b',\n",
       " 'f': 'm',\n",
       " 'g': 'n',\n",
       " 'h': 'p',\n",
       " 'i': 'z',\n",
       " 'j': 'e',\n",
       " 'k': 'a',\n",
       " 'l': 'l',\n",
       " 'm': 'r',\n",
       " 'n': 'h',\n",
       " 'o': 'o',\n",
       " 'p': 'f',\n",
       " 'q': 'u',\n",
       " 'r': 'c',\n",
       " 's': 'g',\n",
       " 't': 'j',\n",
       " 'u': 'd',\n",
       " 'v': 't',\n",
       " 'w': 'y',\n",
       " 'x': 'i',\n",
       " 'y': 'q',\n",
       " 'z': 'k'}"
      ]
     },
     "metadata": {},
     "execution_count": 62
    }
   ],
   "source": [
    "replace_dict"
   ]
  },
  {
   "cell_type": "code",
   "execution_count": 17,
   "metadata": {},
   "outputs": [
    {
     "output_type": "execute_result",
     "data": {
      "text/plain": [
       "0.7745291730919465"
      ]
     },
     "metadata": {},
     "execution_count": 17
    }
   ],
   "source": [
    "random.random()"
   ]
  },
  {
   "cell_type": "code",
   "execution_count": null,
   "metadata": {},
   "outputs": [],
   "source": []
  }
 ]
}