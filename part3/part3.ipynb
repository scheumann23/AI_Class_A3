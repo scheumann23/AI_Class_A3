{
 "metadata": {
  "language_info": {
   "codemirror_mode": {
    "name": "ipython",
    "version": 3
   },
   "file_extension": ".py",
   "mimetype": "text/x-python",
   "name": "python",
   "nbconvert_exporter": "python",
   "pygments_lexer": "ipython3",
   "version": "3.8.5-final"
  },
  "orig_nbformat": 2,
  "kernelspec": {
   "name": "python3",
   "display_name": "Python 3"
  }
 },
 "nbformat": 4,
 "nbformat_minor": 2,
 "cells": [
  {
   "cell_type": "code",
   "execution_count": 24,
   "metadata": {},
   "outputs": [],
   "source": [
    "from PIL import Image, ImageDraw, ImageFont\n",
    "import sys\n",
    "import math\n",
    "\n",
    "CHARACTER_WIDTH=14\n",
    "CHARACTER_HEIGHT=25"
   ]
  },
  {
   "cell_type": "code",
   "execution_count": 2,
   "metadata": {},
   "outputs": [],
   "source": [
    "def load_letters(fname):\n",
    "    im = Image.open(fname)\n",
    "    px = im.load()\n",
    "    (x_size, y_size) = im.size\n",
    "    print(im.size)\n",
    "    print(int(x_size / CHARACTER_WIDTH) * CHARACTER_WIDTH)\n",
    "    result = []\n",
    "    for x_beg in range(0, int(x_size / CHARACTER_WIDTH) * CHARACTER_WIDTH, CHARACTER_WIDTH):\n",
    "        result += [ [ \"\".join([ '*' if px[x, y] < 1 else ' ' for x in range(x_beg, x_beg+CHARACTER_WIDTH) ]) for y in range(0, CHARACTER_HEIGHT) ], ]\n",
    "    return result\n",
    "\n",
    "def load_training_letters(fname):\n",
    "    TRAIN_LETTERS=\"ABCDEFGHIJKLMNOPQRSTUVWXYZabcdefghijklmnopqrstuvwxyz0123456789(),.-!?\\\"' \"\n",
    "    letter_images = load_letters(fname)\n",
    "    return { TRAIN_LETTERS[i]: letter_images[i] for i in range(0, len(TRAIN_LETTERS) ) }"
   ]
  },
  {
   "cell_type": "code",
   "execution_count": 77,
   "metadata": {},
   "outputs": [],
   "source": [
    "def emis_prob(pic1, pic2, m):\n",
    "    counter = sum([1 if pic1[r][c] == pic2[r][c] else 0 for c in range(len(pic1[0])) for r in range(len(pic1))])\n",
    "    log_prob = 350 * math.log(m/100) + counter * math.log((100-m)/m)\n",
    "    return log_prob"
   ]
  },
  {
   "cell_type": "code",
   "execution_count": 109,
   "metadata": {},
   "outputs": [],
   "source": [
    "def simple_model(fuzzy_img, train_letters, m):\n",
    "    seq = []\n",
    "    TRAIN_LETTERS=\"ABCDEFGHIJKLMNOPQRSTUVWXYZabcdefghijklmnopqrstuvwxyz0123456789(),.-!?\\\"' \"\n",
    "    for i in range(len(fuzzy_img)):\n",
    "        max_let = ''\n",
    "        max_prob = -100000000\n",
    "        for let in TRAIN_LETTERS:\n",
    "            temp_prob = emis_prob(fuzzy_img[i], train_letters[let], m)\n",
    "            if temp_prob > max_prob:\n",
    "                max_prob = temp_prob\n",
    "                max_let = let\n",
    "        seq.append(max_let)\n",
    "    return \"\".join(seq)"
   ]
  },
  {
   "cell_type": "code",
   "execution_count": 123,
   "metadata": {},
   "outputs": [
    {
     "output_type": "stream",
     "name": "stdout",
     "text": [
      "(1008, 25)\n1008\n(729, 25)\n728\n"
     ]
    }
   ],
   "source": [
    "train_letters = load_training_letters('courier-train.png')\n",
    "test_letters = load_letters('test-19-0.png')"
   ]
  },
  {
   "cell_type": "code",
   "execution_count": 126,
   "metadata": {
    "tags": []
   },
   "outputs": [
    {
     "output_type": "execute_result",
     "data": {
      "text/plain": [
       "' 1N D   , B  .  .   1OM Y  ,  nc     N,   ..  c n c.'"
      ]
     },
     "metadata": {},
     "execution_count": 126
    }
   ],
   "source": [
    "simple_model(test_letters, train_letters, 40)"
   ]
  },
  {
   "cell_type": "code",
   "execution_count": 127,
   "metadata": {},
   "outputs": [],
   "source": [
    "def read_data(fname):\n",
    "    exemplars = []\n",
    "    file = open(fname, 'r')\n",
    "    for line in file:\n",
    "        data = tuple([w for w in line.split()])\n",
    "        exemplars += [ data[0::2] ]\n",
    "\n",
    "    return exemplars"
   ]
  },
  {
   "cell_type": "code",
   "execution_count": 97,
   "metadata": {},
   "outputs": [
    {
     "output_type": "execute_result",
     "data": {
      "text/plain": [
       "34"
      ]
     },
     "metadata": {},
     "execution_count": 97
    }
   ],
   "source": [
    "len(test_letters)"
   ]
  },
  {
   "cell_type": "code",
   "execution_count": null,
   "metadata": {},
   "outputs": [],
   "source": []
  }
 ]
}